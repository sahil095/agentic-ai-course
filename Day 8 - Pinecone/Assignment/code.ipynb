{
 "cells": [
  {
   "cell_type": "code",
   "execution_count": 33,
   "id": "dc6131d2",
   "metadata": {},
   "outputs": [
    {
     "data": {
      "text/plain": [
       "True"
      ]
     },
     "execution_count": 33,
     "metadata": {},
     "output_type": "execute_result"
    }
   ],
   "source": [
    "import os\n",
    "import glob\n",
    "from uuid import uuid4\n",
    "from dotenv import load_dotenv\n",
    "from sentence_transformers import SentenceTransformer\n",
    "\n",
    "from pinecone import Pinecone\n",
    "from pinecone import ServerlessSpec\n",
    "\n",
    "from langchain import hub\n",
    "from langchain_core.documents import Document\n",
    "from langchain_core.prompts import PromptTemplate\n",
    "from langchain_pinecone import PineconeVectorStore\n",
    "from langchain_huggingface import HuggingFaceEmbeddings\n",
    "from langchain_core.output_parsers import StrOutputParser\n",
    "from langchain_core.runnables import RunnablePassthrough\n",
    "from langchain_google_genai import ChatGoogleGenerativeAI\n",
    "from langchain_google_genai import GoogleGenerativeAIEmbeddings\n",
    "from langchain_community.document_loaders import PyPDFLoader\n",
    "from langchain_experimental.text_splitter import SemanticChunker\n",
    "\n",
    "from pymilvus import connections, Collection, FieldSchema, CollectionSchema, DataType\n",
    "\n",
    "load_dotenv()"
   ]
  },
  {
   "cell_type": "code",
   "execution_count": 3,
   "id": "a82f2ed7",
   "metadata": {},
   "outputs": [],
   "source": [
    "os.environ['HF_TOKEN']=os.getenv(\"HF_TOKEN\")\n",
    "os.environ['GOOGLE_API_KEY']=os.getenv(\"GOOGLE_API_KEY\")\n",
    "os.environ['PINECONE_API_KEY']=os.getenv(\"PINECONE_API_KEY\")"
   ]
  },
  {
   "cell_type": "code",
   "execution_count": 8,
   "id": "64732170",
   "metadata": {},
   "outputs": [],
   "source": [
    "# Step 1: Load all PDFs from directory\n",
    "pdf_dir = \"./data/\"\n",
    "pdf_files = glob.glob(os.path.join(pdf_dir, \"*.pdf\"))"
   ]
  },
  {
   "cell_type": "code",
   "execution_count": 10,
   "id": "8aa1f9ab",
   "metadata": {},
   "outputs": [],
   "source": [
    "all_docs = []\n",
    "for pdf_file in pdf_files:\n",
    "    loader = PyPDFLoader(pdf_file)\n",
    "    all_docs.extend(loader.load())"
   ]
  },
  {
   "cell_type": "code",
   "execution_count": 13,
   "id": "1c046653",
   "metadata": {},
   "outputs": [
    {
     "name": "stdout",
     "output_type": "stream",
     "text": [
      "Loaded 42 page documents (should cover >200 pages).\n"
     ]
    }
   ],
   "source": [
    "print(f\"Loaded {len(all_docs)} page documents (should cover >200 pages).\")"
   ]
  },
  {
   "cell_type": "code",
   "execution_count": null,
   "id": "89c678d4",
   "metadata": {},
   "outputs": [
    {
     "name": "stdout",
     "output_type": "stream",
     "text": [
      "Total semantic chunks: 56\n"
     ]
    }
   ],
   "source": [
    "# Step 2: Semantic Chunking\n",
    "embedder = GoogleGenerativeAIEmbeddings(model='models/embedding-001')\n",
    "chunker = SemanticChunker(embedder, breakpoint_threshold_type=\"standard_deviation\", min_chunk_size=200)\n",
    "semantic_chunks = chunker.create_documents([doc.page_content for doc in all_docs])\n",
    "\n",
    "print(f\"Total semantic chunks: {len(semantic_chunks)}\")"
   ]
  },
  {
   "cell_type": "code",
   "execution_count": 28,
   "id": "12d3fb75",
   "metadata": {},
   "outputs": [
    {
     "data": {
      "text/plain": [
       "'arXiv:2405.10842v2  [cs.CV]  29 May 2024\\nIEEE REVIEWS IN BIOMEDICAL ENGINEERING, VOL. XX, NO. XX, XXX X 2023 1\\nAutomated Radiology Report Generation:\\nA Review of Recent Advances\\nPhillip Sloan, Philip Clatworthy , Edwin Simpson, and Majid Mirmehdi\\nAbstract — Increasing demands on medical imaging de-\\npartments are taking a toll on the radiologist’s ability to\\ndeliver timely and accurate reports. Recent technological\\nadvances in artiﬁcial intelligence have demonstrated grea t\\npotential for automatic radiology report generation (ARRG ),\\nsparking an explosion of research. This survey paper con-\\nducts a methodological review of contemporary ARRG\\napproaches by way of (i) assessing datasets based on\\ncharacteristics, such as availability , size, and adoption rate,\\n(ii) examining deep learning training methods, such as con-\\ntrastive learning and reinforcement learning, (iii) explo ring\\nstate-of-the-art model architectures, including variati ons\\nof CNN and transformer models, (iv) outlining techniques\\nintegrating clinical knowledge through multimodal inputs\\nand knowledge graphs, and (v) scrutinising current model\\nevaluation techniques, including commonly applied NLP\\nmetrics and qualitative clinical reviews. Furthermore, th e\\nquantitative results of the reviewed models are analysed,\\nwhere the top performing models are examined to seek\\nfurther insights. Finally , potential new directions are hi gh-\\nlighted, with the adoption of additional datasets from othe r\\nradiological modalities and improved evaluation methods\\npredicted as important areas of future development. Index Terms— Artiﬁcial Intelligence, Biomedical Imaging,\\nComputer Vision, Deep Learning, Image Captioning, Lan-\\nguage Models, Natural Language Processing, Radiology\\nReport Generation, T ransformers, Vision Language Models. I. I NT RODUCT ION\\nR\\nADIOLOGY is critical to modern healthcare and is the\\nmain diagnostic tool used by clinicians for monitoring\\ntreatment and predicting outcomes. Radiology includes var ious\\nimaging modalities, and after each examination has been\\nperformed, a radiological report is produced to guide patie nt\\nmanagement. The diagnostic accuracy of such reports is crit i-\\ncal in ensuring optimal care, however it has been reported th at\\nthere is a discrepancy rate of 3–5% [\\n1] while expressions of\\nuncertainty have been found in 35% of reports [ 2]. This can be\\ncompounded by a shortage of radiologists in some regions, fo r\\nP . Sloan was supported by the UK Research and Innovation (UKR I)\\nCentre for Doctoral T raining (CDT) in Interactive Artiﬁcia l Intelligence\\nAward (EP/S022937/1)\\nP . Sloan is with the Interactive Artiﬁcial Intelligence CDT at\\nthe School of Computer Science, University of Bristol, UK (e -mail:\\nphillip.sloan@bristol.ac.uk). P . Clatworthy is with the Bristol Medical School, Universit y of Bristol,\\nUK (e-mail: phil.clatworthy@bristol.ac.uk). E. Simpson is with the Intelligent Systems Labs, School of En gi-\\nneering Mathematics and T echnology , University of Bristol , UK (email:\\nedwin.simpson@bristol.ac.uk). M. Mirmehdi is with the School of Computer Science, Universi ty of\\nBristol, UK (email: majid@cs.bris.ac.uk). Fig. 1. Illustration of the rapid growth of published papers within the\\nARRG domain. The dashed line represents a forecast of antici pated\\nfuture publications. example 97% of imaging departments in the UK report that\\nthey can not keep up with demand [\\n3]. Such understafﬁng can\\ncause reporting delays leading to clinicians making critic al\\ndecisions without the beneﬁt of a radiological opinion and\\npotentially reaching a different conclusion compared to th at\\nof an interpreting radiologist [\\n4]. Healthcare represents an important application of deep\\nlearning research and with radiology producing 90% of\\nhealthcare data [ 5], it is an attractive area for deep learning\\nresearchers. Methods from computer vision (CV) [ 6] and\\nnatural language processing (NLP) [ 7], [ 8] are currently be-\\ning adopted within the healthcare domain to improve the\\naffordability and standards of care. One rapidly developin g\\nhealthcare application of deep learning is automated radio logy\\nreport generation (ARRG), a vision-language task that has\\nsimilarities to the broader area of image captioning [\\n9]. With\\nits ability to augment radiologists’ capabilities, ARRG ha s\\nsigniﬁcant clinical value and could alleviate time pressur es by\\nreporting relatively simple examinations. It could also be used\\nas a patient speciﬁc draft template and for an inexperienced\\nradiologist it could act as a second reader [\\n10] by automatically\\nhighlighting any potential abnormalities [ 11]. There have been prior surveys of the ARRG domain [ 12]–\\n[14] and of the automated medical report generation domain\\n[15]–[ 17] (see T able I for summary). While these earlier papers\\noffered an analysis of the initial growth of ARRG, there has\\nsince been a surge of papers released over the past 2-3 years\\nas can be observed in Figure\\n1. W e anticipate this trend to\\ncontinue, driven by the rising number of researchers in this'"
      ]
     },
     "execution_count": 28,
     "metadata": {},
     "output_type": "execute_result"
    }
   ],
   "source": [
    "semantic_chunks[0].page_content"
   ]
  },
  {
   "cell_type": "code",
   "execution_count": null,
   "id": "a4174c14",
   "metadata": {},
   "outputs": [],
   "source": [
    "texts = [chunk.page_content for chunk in semantic_chunks]\n",
    "embeddings = embedder.embed_documents(texts)"
   ]
  },
  {
   "cell_type": "code",
   "execution_count": 31,
   "id": "70c8762a",
   "metadata": {},
   "outputs": [
    {
     "data": {
      "text/plain": [
       "56"
      ]
     },
     "execution_count": 31,
     "metadata": {},
     "output_type": "execute_result"
    }
   ],
   "source": [
    "len(embeddings)"
   ]
  },
  {
   "cell_type": "code",
   "execution_count": 35,
   "id": "e28f4484",
   "metadata": {},
   "outputs": [
    {
     "ename": "MilvusException",
     "evalue": "<MilvusException: (code=2, message=Fail connecting to server on localhost:19530, illegal connection params or server unavailable)>",
     "output_type": "error",
     "traceback": [
      "\u001b[31m---------------------------------------------------------------------------\u001b[39m",
      "\u001b[31mFutureTimeoutError\u001b[39m                        Traceback (most recent call last)",
      "\u001b[36mFile \u001b[39m\u001b[32md:\\Krish Naik Youtube\\Agentic AI Course\\venv\\Lib\\site-packages\\pymilvus\\client\\grpc_handler.py:155\u001b[39m, in \u001b[36mGrpcHandler._wait_for_channel_ready\u001b[39m\u001b[34m(self, timeout)\u001b[39m\n\u001b[32m    154\u001b[39m \u001b[38;5;28;01mtry\u001b[39;00m:\n\u001b[32m--> \u001b[39m\u001b[32m155\u001b[39m     \u001b[43mgrpc\u001b[49m\u001b[43m.\u001b[49m\u001b[43mchannel_ready_future\u001b[49m\u001b[43m(\u001b[49m\u001b[38;5;28;43mself\u001b[39;49m\u001b[43m.\u001b[49m\u001b[43m_channel\u001b[49m\u001b[43m)\u001b[49m\u001b[43m.\u001b[49m\u001b[43mresult\u001b[49m\u001b[43m(\u001b[49m\u001b[43mtimeout\u001b[49m\u001b[43m=\u001b[49m\u001b[43mtimeout\u001b[49m\u001b[43m)\u001b[49m\n\u001b[32m    156\u001b[39m     \u001b[38;5;28mself\u001b[39m._setup_identifier_interceptor(\u001b[38;5;28mself\u001b[39m._user, timeout=timeout)\n",
      "\u001b[36mFile \u001b[39m\u001b[32md:\\Krish Naik Youtube\\Agentic AI Course\\venv\\Lib\\site-packages\\grpc\\_utilities.py:162\u001b[39m, in \u001b[36m_ChannelReadyFuture.result\u001b[39m\u001b[34m(self, timeout)\u001b[39m\n\u001b[32m    161\u001b[39m \u001b[38;5;28;01mdef\u001b[39;00m\u001b[38;5;250m \u001b[39m\u001b[34mresult\u001b[39m(\u001b[38;5;28mself\u001b[39m, timeout: Optional[\u001b[38;5;28mfloat\u001b[39m] = \u001b[38;5;28;01mNone\u001b[39;00m) -> \u001b[38;5;28;01mNone\u001b[39;00m:\n\u001b[32m--> \u001b[39m\u001b[32m162\u001b[39m     \u001b[38;5;28;43mself\u001b[39;49m\u001b[43m.\u001b[49m\u001b[43m_block\u001b[49m\u001b[43m(\u001b[49m\u001b[43mtimeout\u001b[49m\u001b[43m)\u001b[49m\n",
      "\u001b[36mFile \u001b[39m\u001b[32md:\\Krish Naik Youtube\\Agentic AI Course\\venv\\Lib\\site-packages\\grpc\\_utilities.py:106\u001b[39m, in \u001b[36m_ChannelReadyFuture._block\u001b[39m\u001b[34m(self, timeout)\u001b[39m\n\u001b[32m    105\u001b[39m \u001b[38;5;28;01mif\u001b[39;00m remaining < \u001b[32m0\u001b[39m:\n\u001b[32m--> \u001b[39m\u001b[32m106\u001b[39m     \u001b[38;5;28;01mraise\u001b[39;00m grpc.FutureTimeoutError()\n\u001b[32m    107\u001b[39m \u001b[38;5;28;01melse\u001b[39;00m:\n",
      "\u001b[31mFutureTimeoutError\u001b[39m: ",
      "\nThe above exception was the direct cause of the following exception:\n",
      "\u001b[31mMilvusException\u001b[39m                           Traceback (most recent call last)",
      "\u001b[36mCell\u001b[39m\u001b[36m \u001b[39m\u001b[32mIn[35]\u001b[39m\u001b[32m, line 2\u001b[39m\n\u001b[32m      1\u001b[39m \u001b[38;5;66;03m# Connect to Milvus\u001b[39;00m\n\u001b[32m----> \u001b[39m\u001b[32m2\u001b[39m \u001b[43mconnections\u001b[49m\u001b[43m.\u001b[49m\u001b[43mconnect\u001b[49m\u001b[43m(\u001b[49m\u001b[33;43m\"\u001b[39;49m\u001b[33;43mdefault\u001b[39;49m\u001b[33;43m\"\u001b[39;49m\u001b[43m,\u001b[49m\u001b[43m \u001b[49m\u001b[43mhost\u001b[49m\u001b[43m=\u001b[49m\u001b[33;43m\"\u001b[39;49m\u001b[33;43mlocalhost\u001b[39;49m\u001b[33;43m\"\u001b[39;49m\u001b[43m,\u001b[49m\u001b[43m \u001b[49m\u001b[43mport\u001b[49m\u001b[43m=\u001b[49m\u001b[33;43m\"\u001b[39;49m\u001b[33;43m19530\u001b[39;49m\u001b[33;43m\"\u001b[39;49m\u001b[43m)\u001b[49m\n",
      "\u001b[36mFile \u001b[39m\u001b[32md:\\Krish Naik Youtube\\Agentic AI Course\\venv\\Lib\\site-packages\\pymilvus\\orm\\connections.py:467\u001b[39m, in \u001b[36mConnections.connect\u001b[39m\u001b[34m(self, alias, user, password, db_name, token, _async, **kwargs)\u001b[39m\n\u001b[32m    464\u001b[39m         \u001b[38;5;28;01mif\u001b[39;00m parsed_uri.scheme == \u001b[33m\"\u001b[39m\u001b[33mhttps\u001b[39m\u001b[33m\"\u001b[39m:\n\u001b[32m    465\u001b[39m             kwargs[\u001b[33m\"\u001b[39m\u001b[33msecure\u001b[39m\u001b[33m\"\u001b[39m] = \u001b[38;5;28;01mTrue\u001b[39;00m\n\u001b[32m--> \u001b[39m\u001b[32m467\u001b[39m     \u001b[43mconnect_milvus\u001b[49m\u001b[43m(\u001b[49m\u001b[43m*\u001b[49m\u001b[43m*\u001b[49m\u001b[43mkwargs\u001b[49m\u001b[43m,\u001b[49m\u001b[43m \u001b[49m\u001b[43muser\u001b[49m\u001b[43m=\u001b[49m\u001b[43muser\u001b[49m\u001b[43m,\u001b[49m\u001b[43m \u001b[49m\u001b[43mpassword\u001b[49m\u001b[43m=\u001b[49m\u001b[43mpassword\u001b[49m\u001b[43m,\u001b[49m\u001b[43m \u001b[49m\u001b[43mtoken\u001b[49m\u001b[43m=\u001b[49m\u001b[43mtoken\u001b[49m\u001b[43m,\u001b[49m\u001b[43m \u001b[49m\u001b[43mdb_name\u001b[49m\u001b[43m=\u001b[49m\u001b[43mdb_name\u001b[49m\u001b[43m)\u001b[49m\n\u001b[32m    468\u001b[39m     \u001b[38;5;28;01mreturn\u001b[39;00m\n\u001b[32m    470\u001b[39m \u001b[38;5;66;03m# 2nd Priority, connection configs from env\u001b[39;00m\n",
      "\u001b[36mFile \u001b[39m\u001b[32md:\\Krish Naik Youtube\\Agentic AI Course\\venv\\Lib\\site-packages\\pymilvus\\orm\\connections.py:417\u001b[39m, in \u001b[36mConnections.connect.<locals>.connect_milvus\u001b[39m\u001b[34m(**kwargs)\u001b[39m\n\u001b[32m    414\u001b[39m timeout = t \u001b[38;5;28;01mif\u001b[39;00m \u001b[38;5;28misinstance\u001b[39m(t, (\u001b[38;5;28mint\u001b[39m, \u001b[38;5;28mfloat\u001b[39m)) \u001b[38;5;28;01melse\u001b[39;00m Config.MILVUS_CONN_TIMEOUT\n\u001b[32m    416\u001b[39m \u001b[38;5;28;01mif\u001b[39;00m \u001b[38;5;129;01mnot\u001b[39;00m _async:\n\u001b[32m--> \u001b[39m\u001b[32m417\u001b[39m     \u001b[43mgh\u001b[49m\u001b[43m.\u001b[49m\u001b[43m_wait_for_channel_ready\u001b[49m\u001b[43m(\u001b[49m\u001b[43mtimeout\u001b[49m\u001b[43m=\u001b[49m\u001b[43mtimeout\u001b[49m\u001b[43m)\u001b[49m\n\u001b[32m    419\u001b[39m     \u001b[38;5;28;01mif\u001b[39;00m kwargs.pop(\u001b[33m\"\u001b[39m\u001b[33mkeep_alive\u001b[39m\u001b[33m\"\u001b[39m, \u001b[38;5;28;01mFalse\u001b[39;00m):\n\u001b[32m    420\u001b[39m         gh.register_state_change_callback(\n\u001b[32m    421\u001b[39m             ReconnectHandler(\u001b[38;5;28mself\u001b[39m, alias, kwargs_copy).reconnect_on_idle\n\u001b[32m    422\u001b[39m         )\n",
      "\u001b[36mFile \u001b[39m\u001b[32md:\\Krish Naik Youtube\\Agentic AI Course\\venv\\Lib\\site-packages\\pymilvus\\client\\grpc_handler.py:159\u001b[39m, in \u001b[36mGrpcHandler._wait_for_channel_ready\u001b[39m\u001b[34m(self, timeout)\u001b[39m\n\u001b[32m    157\u001b[39m \u001b[38;5;28;01mexcept\u001b[39;00m grpc.FutureTimeoutError \u001b[38;5;28;01mas\u001b[39;00m e:\n\u001b[32m    158\u001b[39m     \u001b[38;5;28mself\u001b[39m.close()\n\u001b[32m--> \u001b[39m\u001b[32m159\u001b[39m     \u001b[38;5;28;01mraise\u001b[39;00m MilvusException(\n\u001b[32m    160\u001b[39m         code=Status.CONNECT_FAILED,\n\u001b[32m    161\u001b[39m         message=\u001b[33mf\u001b[39m\u001b[33m\"\u001b[39m\u001b[33mFail connecting to server on \u001b[39m\u001b[38;5;132;01m{\u001b[39;00m\u001b[38;5;28mself\u001b[39m._address\u001b[38;5;132;01m}\u001b[39;00m\u001b[33m, illegal connection params or server unavailable\u001b[39m\u001b[33m\"\u001b[39m,\n\u001b[32m    162\u001b[39m     ) \u001b[38;5;28;01mfrom\u001b[39;00m\u001b[38;5;250m \u001b[39m\u001b[34;01me\u001b[39;00m\n\u001b[32m    163\u001b[39m \u001b[38;5;28;01mexcept\u001b[39;00m \u001b[38;5;167;01mException\u001b[39;00m \u001b[38;5;28;01mas\u001b[39;00m e:\n\u001b[32m    164\u001b[39m     \u001b[38;5;28mself\u001b[39m.close()\n",
      "\u001b[31mMilvusException\u001b[39m: <MilvusException: (code=2, message=Fail connecting to server on localhost:19530, illegal connection params or server unavailable)>"
     ]
    }
   ],
   "source": [
    "# Connect to Milvus\n",
    "connections.connect(\"default\", host=\"localhost\", port=\"19530\")"
   ]
  },
  {
   "cell_type": "code",
   "execution_count": null,
   "id": "521879f9",
   "metadata": {},
   "outputs": [],
   "source": []
  },
  {
   "cell_type": "code",
   "execution_count": null,
   "id": "779ff493",
   "metadata": {},
   "outputs": [],
   "source": []
  },
  {
   "cell_type": "code",
   "execution_count": null,
   "id": "a0c18989",
   "metadata": {},
   "outputs": [],
   "source": []
  },
  {
   "cell_type": "code",
   "execution_count": null,
   "id": "5f51571c",
   "metadata": {},
   "outputs": [],
   "source": []
  },
  {
   "cell_type": "code",
   "execution_count": null,
   "id": "47c58b18",
   "metadata": {},
   "outputs": [],
   "source": []
  },
  {
   "cell_type": "code",
   "execution_count": null,
   "id": "eb77f26d",
   "metadata": {},
   "outputs": [],
   "source": []
  },
  {
   "cell_type": "code",
   "execution_count": null,
   "id": "606562ae",
   "metadata": {},
   "outputs": [],
   "source": []
  },
  {
   "cell_type": "code",
   "execution_count": null,
   "id": "ac0e7735",
   "metadata": {},
   "outputs": [],
   "source": []
  },
  {
   "cell_type": "code",
   "execution_count": null,
   "id": "790326be",
   "metadata": {},
   "outputs": [],
   "source": []
  },
  {
   "cell_type": "code",
   "execution_count": null,
   "id": "edf295bd",
   "metadata": {},
   "outputs": [],
   "source": []
  },
  {
   "cell_type": "code",
   "execution_count": null,
   "id": "41d3d687",
   "metadata": {},
   "outputs": [],
   "source": []
  }
 ],
 "metadata": {
  "kernelspec": {
   "display_name": "Python 3",
   "language": "python",
   "name": "python3"
  },
  "language_info": {
   "codemirror_mode": {
    "name": "ipython",
    "version": 3
   },
   "file_extension": ".py",
   "mimetype": "text/x-python",
   "name": "python",
   "nbconvert_exporter": "python",
   "pygments_lexer": "ipython3",
   "version": "3.13.0"
  }
 },
 "nbformat": 4,
 "nbformat_minor": 5
}
